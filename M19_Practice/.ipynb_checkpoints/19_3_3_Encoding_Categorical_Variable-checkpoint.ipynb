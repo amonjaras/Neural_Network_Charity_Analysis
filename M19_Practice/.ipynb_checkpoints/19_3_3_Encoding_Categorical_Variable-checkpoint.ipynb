{
 "cells": [
  {
   "cell_type": "markdown",
   "metadata": {
    "id": "I0xCmWZbwGDY"
   },
   "source": [
    "### 19.3.3 Encoding Categorical Variable\n",
    "Whew! Turns out it's a good thing Beks dug into how neural networks handle categorical data of various types—she'll need to make sure she uses the one-hot encoding method with any categorical variables in the dataset.\n",
    "\n",
    "However Beks knows reading about one-hot encoding is one thing - implementing one-hot encoding is another."
   ]
  },
  {
   "cell_type": "code",
   "execution_count": null,
   "metadata": {},
   "outputs": [],
   "source": [
    "# Import our dependencies\n",
    "import pandas as pd\n",
    "import sklearn as skl\n",
    "\n",
    "# Read in our ramen data\n",
    "rame"
   ]
  }
 ],
 "metadata": {
  "colab": {
   "name": "19-3-3_Encoding-Categorical-Variable.ipynb",
   "provenance": []
  },
  "kernelspec": {
   "display_name": "Python 3 (ipykernel)",
   "language": "python",
   "name": "python3"
  },
  "language_info": {
   "codemirror_mode": {
    "name": "ipython",
    "version": 3
   },
   "file_extension": ".py",
   "mimetype": "text/x-python",
   "name": "python",
   "nbconvert_exporter": "python",
   "pygments_lexer": "ipython3",
   "version": "3.9.12"
  }
 },
 "nbformat": 4,
 "nbformat_minor": 1
}
